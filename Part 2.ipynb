{
 "cells": [
  {
   "cell_type": "markdown",
   "metadata": {},
   "source": [
    "https://github.com/Dongkai-Wu/IST-210-Group-Assignment-1\n",
    "    \n",
    "Featured project: Business Interactions Within An Airport\n",
    "\n",
    "The idea we are choosing for our project is the business of an airport. Our last idea is the business of an airport. Although the idea already exists it is interesting because there are a lot of features that develops how an airport is run. This isn’t just a store or product but a billion-dollar industry that has transformed the way transportation is used in our society. A typical business interaction with an airport would include a passenger purchasing a ticket online or over the phone with a specific destination in mind as well as a specific date, going from there they will choose the airline that is most likely the cheapest or has the best service. Once they get to the airport, they check their bags in, get their boarding pass, go to through security, and get to their gate. On their boarding pass it will list the destination as well as what seat and aisle number they will be sitting in. The name of our table will be airline info in an airport on the date of January 15th. So as similarly described in this business interaction, our table will include airline route and within that the attributes will include the time and destination of the flight. The next aspect of the table will be the name of the airline, then the type of plane they will be taking which is attributed by an airplane code. Following that the table also includes customers on board as well as the total revenue per flight which will be attributed by the breakdown of average price per ticket. The goal of this project is to find out which airline made the most amount of money in revenue on January 15th. We will find this out by multiplying the average profit from airplane tickets in the industry, which is $18 per passenger, and multiply it by the number of passengers on board to get the total revenue.\n",
    "\n",
    "The flow of business begins with the airline name. From there, the flight is then linked to an airplane code which features the airplane model and flight number, reflecting a one to many relationship.  Next, the airplane code is then matched with the flight route which includes the destination and time in which passengers will arrive there. This link between the two entities shows a many to many relationship. Each of these flight routes also have a relationship with the number of customers on board, which also includes the industry average of 18 dollars profit per passenger. All routes and its relation to number of customers in each flight exhibits a many to many relationship as well. Lastly, as mentioned before, the goal of our project is to find out which airline generated the most revenue on January 15th. The attributes within customers on each flight is multiplied by $18 to show the final “end-user” data of what each airline company’s revenue is for each flight route. This link between the two is yet again another many-to-many relationship. The constraints within this project are the factors of airport opening times, in which airports operate within a certain time frame such as between 8am – 12am. Another thing to consider is red-eye flights that operate in the middle of the night and these are not a common flight for passengers to choose, meaning the revenue generated from it may be an outlier. We also thought of certain discount airlines such as Spirit airlines and Frontier airlines as being a constraint. These airlines have much lower ticket prices than regular airlines, therefore it may not be 18 profit per passenger like the industry average and is more difficult to calculate. The final constraint we thought of was that we only considered domestic flights and not international flights, where there may be more passengers flying and higher ticket prices. \n",
    "\n",
    "![](tables.png)\n",
    "![](0.png) \n",
    "\n",
    "\n",
    "\n"
   ]
  },
  {
   "cell_type": "code",
   "execution_count": null,
   "metadata": {},
   "outputs": [],
   "source": []
  }
 ],
 "metadata": {
  "kernelspec": {
   "display_name": "Python 3",
   "language": "python",
   "name": "python3"
  },
  "language_info": {
   "codemirror_mode": {
    "name": "ipython",
    "version": 3
   },
   "file_extension": ".py",
   "mimetype": "text/x-python",
   "name": "python",
   "nbconvert_exporter": "python",
   "pygments_lexer": "ipython3",
   "version": "3.7.3"
  }
 },
 "nbformat": 4,
 "nbformat_minor": 2
}
