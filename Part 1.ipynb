{
 "cells": [
  {
   "cell_type": "code",
   "execution_count": null,
   "metadata": {},
   "outputs": [],
   "source": [
    "https://github.com/Dongkai-Wu/IST-210-Group-Assignment-1\n",
    "    \n",
    "One of our ideas was to use a restaurant for this topic, similar to some of the bars in Nashville such as Ole Red, but in the State College Area. This is a unique idea because we have nothing similar to that here. The idea would be to serve an all you can eat brunch, lunch, and dinner at this restaurant. No one likes brunches more than hung over college kids. We would have a live band come in for dinner time and play songs to sing along to, then at night we would kick out all of the under aged children and make the restaurant into more of a bar. A typical day for our business would be opening at 10am having brunch served till 2, then having lunch available from 12 to 4, then dinner opens at 4 with a live band coming in at 6 till close. One entity would be the location of this restaurant, we would place this bar right on beaver avenue. We would try and stay closer to all of the apartment complexes in order to get the most amount of customers. A few other entities that are important to have are the servers we would have to give our guests the best experience possible. Another important thing would have to be the live music playing, if the musician is not good it would not be worth returning for most customers. Since it is in a college town and mostly for college students it is important to make sure the price of the food is reasonable. Whenever it is turned into a bar on Wednesday nights we could have all drinks for girls twenty-five percent off. Then on Sundays we could have half priced beer. The attributes would be the cleanliness of our restaurant, no one likes to eat or drink at some place they find disgusting. Some attributes of this restaurant would have to be the price of the food and the quality of the food. Also if the quality of the food is not high the guests would be less likely to return. We also we need to decide how many people we would be to fit in all at once.\n",
    "\n",
    "Our second idea is an amusement park like Six Flags or Hershey where there are rides, waterpark, carnival style games, places to eat, and different sources of live entertainment. There will be a big concert venue attached to the amusement park as well. The goal of this table is to see which aspects of the park are bringing in the most revenue. A typical day at this business would be people buy a ticket that gives them admission to the park. With that, they can experience all the park has to offer, except the big concerts and the water park. The big concerts will have separate tickets, but you can be admitted into the park with that ticket. You can buy a combo ticket for a slightly higher cost to get into the waterpark. The food and games will also cost extra, but only accept cash. One entity would be the rides because that’s one of the major attractions. Attributes would be the name of the ride, height, speed, location in the park, and how many people can fit on the ride at once. Height and speed constraints would have to be put in place because rollercoasters can’t be over a certain height or speed for safety reasons. There would also have to be a constraint on how many people can fit on the ride at once because of weight limits. Another entity would be food vendors because people get hungry after a long day of rides. Attributes for the food vendors could be types of food, name of the stand, prices, and location in park. There would have to be constraints on prices because $20 for a hot dog would be unreasonable. A third entity would be the games because some people don’t like rides. Attributes for the games would be type of game, price, prizes, and location. There would be constraints on the price because we don’t want to over charge people. Another entity would be entertainment. Attributes for the entertainment would be artist, time of performance, price of ticket, venue within park, and attendance limit. There would be a constraint on the time of performance because it would be weird to have a concert at 5am. Another constraint would be on the prices because we don’t want to charge people too much. Lastly, there would have to be a constraint on attendance because we don’t want to go over maximum capacity. The last entity of an amusement park would be the waterpark. Attributes for this would be ride name, number of people on ride, number of tickets sold, number of lifeguards needed, and how often it needs to be cleaned. There would be constraints on the number of people on the ride at once because of safety, number of tickets sold because we can’t be over capacity and number of lifeguards because we don’t want to have too many.\n",
    "\n",
    "Our last idea is the business of an airport. Although the idea already exists it is interesting because there are a lot of features that develops how an airport is run. This isn’t just a store or product but a billion-dollar industry that has transformed the way transportation is used in our society. A typical business interaction with an airport would include a passenger purchasing a ticket online or over the phone with a specific destination in mind as well as a specific date, going from there they will choose the airline that is most likely the cheapest or has the best service. Once they get to the airport, they check their bags in, get their boarding pass, go to through security, and get to their gate. On their boarding pass it will list the destination as well as what seat and aisle number they will be sitting in. The name of our table will be airline info in an airport on the date of January 15th. So as similarly described in this business interaction, our table will include airline route and within that the attributes will include the time and destination of the flight. The next aspect of the table will be the name of the airline, then the type of plane they will be taking which is attributed by an airplane code. Following that the table also includes customers on board as well as the total revenue per flight which will be attributed by the breakdown of average price per ticket. The goal of this project is to find out which airline made the most amount of money in revenue on January 15th. We will find this out by multiplying the average profit from airplane tickets in the industry, which is $18 per passenger, and multiply it by the number of passengers on board to get the total revenue. "
   ]
  }
 ],
 "metadata": {
  "kernelspec": {
   "display_name": "Python 3",
   "language": "python",
   "name": "python3"
  },
  "language_info": {
   "codemirror_mode": {
    "name": "ipython",
    "version": 3
   },
   "file_extension": ".py",
   "mimetype": "text/x-python",
   "name": "python",
   "nbconvert_exporter": "python",
   "pygments_lexer": "ipython3",
   "version": "3.7.3"
  }
 },
 "nbformat": 4,
 "nbformat_minor": 2
}
