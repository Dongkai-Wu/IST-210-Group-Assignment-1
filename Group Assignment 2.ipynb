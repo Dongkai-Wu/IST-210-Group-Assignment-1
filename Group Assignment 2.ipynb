{
 "cells": [
  {
   "cell_type": "markdown",
   "metadata": {},
   "source": [
    "![title](1.png)"
   ]
  },
  {
   "cell_type": "markdown",
   "metadata": {},
   "source": [
    "It is important for our entity diagram to have a thorough system where all aspects of their flight are logged and can be traced. It begins with the ticket that customers purchase to book a flight. The primary key is the Ticket ID and is attributed by the passenger’s name, the destination, price of the ticket, gate number, baggage ticket, flight ID, the airline, and seat number. There are multiple foreign keys within the ticket to trace to other entities. First, the gate number key is used to assign the gate that passengers need to go to. The baggage ticket key is used to pick up their luggage at baggage claim. The airline foreign key is used to board the plane that passengers will be taking for the flight. The plane’s primary key is the airline and is attributed by flight ID (the foreign key), amenities, the plane’s maximum capacity and maximum distance that it can travel. The ticket ID is also used to look up the flights. The airline then facilitates the actual flight through the flight ID. It is attributed by airline, distance, the destination, ticket ID, gate number, and the pilot flying the plane. The gate number is a foreign key that is used to locate the gate. The gate number is the primary key in this entity and is attributed by the flight ID and its vendors. The gate circles back to its relationship with baggage claim and the flight ID in this entity is also used to locate the passenger’s luggage. The baggage claim’s primary key is the baggage ticket and is attributed by the flight ID, passenger name, ticket ID, and gate number which are all very important to make sure a passenger can easily locate their bag if lost. "
   ]
  },
  {
   "cell_type": "code",
   "execution_count": null,
   "metadata": {},
   "outputs": [],
   "source": []
  }
 ],
 "metadata": {
  "kernelspec": {
   "display_name": "Python 3",
   "language": "python",
   "name": "python3"
  },
  "language_info": {
   "codemirror_mode": {
    "name": "ipython",
    "version": 3
   },
   "file_extension": ".py",
   "mimetype": "text/x-python",
   "name": "python",
   "nbconvert_exporter": "python",
   "pygments_lexer": "ipython3",
   "version": "3.7.3"
  }
 },
 "nbformat": 4,
 "nbformat_minor": 2
}
