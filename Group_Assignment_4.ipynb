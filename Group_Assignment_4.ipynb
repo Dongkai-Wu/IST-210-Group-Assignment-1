{
  "nbformat": 4,
  "nbformat_minor": 0,
  "metadata": {
    "colab": {
      "name": "Group Assignment 4.ipynb",
      "provenance": [],
      "collapsed_sections": []
    },
    "kernelspec": {
      "name": "python3",
      "display_name": "Python 3"
    }
  },
  "cells": [
    {
      "cell_type": "code",
      "metadata": {
        "id": "So8aJYPxHkrW",
        "colab_type": "code",
        "colab": {}
      },
      "source": [
        "import sqlite3\n",
        "connectionToDatabase = sqlite3.connect('AirportData')\n",
        "cursor = connectionToDatabase.cursor()\n",
        "cursor.execute('''drop table IF EXISTS Plane''')\n",
        "connectionToDatabase.commit()\n",
        "cursor.execute('''create table Plane (Airline text PRIMARY KEY, FlightID text, Amenities text, MaxCapacity text, MaxDistance text)''')\n",
        "connectionToDatabase.commit()\n",
        "cursor = connectionToDatabase.cursor()\n",
        "cursor.execute('''drop table IF EXISTS Flights''')\n",
        "connectionToDatabase.commit()\n",
        "cursor.execute('''create table Flights (FlightID PRIMARY KEY, Airline, Distance, Destination, TicketID, GateNumber, Pilot)''')\n",
        "connectionToDatabase.commit()\n",
        "cursor = connectionToDatabase.cursor()\n",
        "cursor.execute('''drop table IF EXISTS Ticket''')\n",
        "connectionToDatabase.commit()\n",
        "cursor.execute('''create table Ticket (TicketID PRIMARY KEY, PassengerName, Destination, Price, GateNumber, BaggageTicket, FlightID, Airline, SeatNumber)''')\n",
        "connectionToDatabase.commit()\n",
        "cursor = connectionToDatabase.cursor()\n",
        "cursor.execute('''drop table IF EXISTS Gate''')\n",
        "connectionToDatabase.commit()\n",
        "cursor.execute('''create table Gate (GateNumber PRIMARY KEY, FlightID, Vendors)''')\n",
        "connectionToDatabase.commit()\n",
        "cursor = connectionToDatabase.cursor()\n",
        "cursor.execute('''drop table IF EXISTS BaggageClaim''')\n",
        "connectionToDatabase.commit()\n",
        "cursor.execute('''create table BaggageClaim (BaggageTicket PRIMARY KEY, FlightID, PassengerName, TicketID, GateNumber)''')\n",
        "connectionToDatabase.commit()"
      ],
      "execution_count": 0,
      "outputs": []
    },
    {
      "cell_type": "code",
      "metadata": {
        "id": "xIHfMBAzxTy7",
        "colab_type": "code",
        "outputId": "3cea439d-2c86-4ef9-ef4a-d13e3bd8936e",
        "colab": {
          "base_uri": "https://localhost:8080/",
          "height": 231
        }
      },
      "source": [
        "for c in Plane:\n",
        "  insertStatement =  \"\"\"insert into Plane values (\"%s\",\"%s\",\"%s\",\"%s\",\"%s\")\"\"\" % (c[0],c[1],c[2],c[3],c[4])\n",
        "  cursor.execute(insertStatement)\n",
        "  connectionToDatabase.commit() # remember to commit!\n",
        "\n",
        "cursor.execute('''insert into Plane values ('Delta', 'Delta 649', 'Movie', '200', '4600mi' );''')\n",
        "connectionToDatabase.commit()\n",
        "cursor.execute('''insert into Plane values ('United Airline', 'UA 2164', 'Snack', '150', '4000mi' );''')\n",
        "connectionToDatabase.commit()\n",
        "cursor.execute('''insert into Plane values ('American Airline', 'AA 1775', 'Movie', '300', '5000mi' );''')\n",
        "connectionToDatabase.commit()\n",
        "cursor.execute('''insert into Plane values ('JetBlue', 'JetBlue 921', 'Movie', '170', '3000mi' );''')\n",
        "connectionToDatabase.commit()\n",
        "cursor.execute('''insert into Plane values ('United Airline', 'UA 3376', 'Games', '250', '4600mi' );''')\n",
        "connectionToDatabase.commit()\n",
        "cursor.execute('''insert into Plane values ('JetBlue', 'JetBlue 1452', 'Movie', '200', '4000mi' );''')\n",
        "connectionToDatabase.commit()\n",
        "cursor.execute('''insert into Plane values ('Delta', 'Delta 209', 'Games', '200', '4000mi' );''')\n",
        "connectionToDatabase.commit()\n",
        "\n",
        "for c in PlaneData:\n",
        "  insertStatement = \"\"\"insert into Plane values (\"%s\", \"%s\",\"%s\", \"%s\", \"%s\")\"\"\" % (c[0], c[1], c[2], c[3], c[4])\n",
        "  cursor.execute(insertStatement)\n",
        "  connectionToDatabase.commit()"
      ],
      "execution_count": 0,
      "outputs": [
        {
          "output_type": "error",
          "ename": "NameError",
          "evalue": "ignored",
          "traceback": [
            "\u001b[0;31m---------------------------------------------------------------------------\u001b[0m",
            "\u001b[0;31mNameError\u001b[0m                                 Traceback (most recent call last)",
            "\u001b[0;32m<ipython-input-14-486294030a48>\u001b[0m in \u001b[0;36m<module>\u001b[0;34m()\u001b[0m\n\u001b[0;32m----> 1\u001b[0;31m \u001b[0;32mfor\u001b[0m \u001b[0mc\u001b[0m \u001b[0;32min\u001b[0m \u001b[0mPlane\u001b[0m\u001b[0;34m:\u001b[0m\u001b[0;34m\u001b[0m\u001b[0;34m\u001b[0m\u001b[0m\n\u001b[0m\u001b[1;32m      2\u001b[0m   \u001b[0minsertStatement\u001b[0m \u001b[0;34m=\u001b[0m  \u001b[0;34m\"\"\"insert into Plane values (\"%s\",\"%s\",\"%s\",\"%s\",\"%s\")\"\"\"\u001b[0m \u001b[0;34m%\u001b[0m \u001b[0;34m(\u001b[0m\u001b[0mc\u001b[0m\u001b[0;34m[\u001b[0m\u001b[0;36m0\u001b[0m\u001b[0;34m]\u001b[0m\u001b[0;34m,\u001b[0m\u001b[0mc\u001b[0m\u001b[0;34m[\u001b[0m\u001b[0;36m1\u001b[0m\u001b[0;34m]\u001b[0m\u001b[0;34m,\u001b[0m\u001b[0mc\u001b[0m\u001b[0;34m[\u001b[0m\u001b[0;36m2\u001b[0m\u001b[0;34m]\u001b[0m\u001b[0;34m,\u001b[0m\u001b[0mc\u001b[0m\u001b[0;34m[\u001b[0m\u001b[0;36m3\u001b[0m\u001b[0;34m]\u001b[0m\u001b[0;34m,\u001b[0m\u001b[0mc\u001b[0m\u001b[0;34m[\u001b[0m\u001b[0;36m4\u001b[0m\u001b[0;34m]\u001b[0m\u001b[0;34m)\u001b[0m\u001b[0;34m\u001b[0m\u001b[0;34m\u001b[0m\u001b[0m\n\u001b[1;32m      3\u001b[0m   \u001b[0mcursor\u001b[0m\u001b[0;34m.\u001b[0m\u001b[0mexecute\u001b[0m\u001b[0;34m(\u001b[0m\u001b[0minsertStatement\u001b[0m\u001b[0;34m)\u001b[0m\u001b[0;34m\u001b[0m\u001b[0;34m\u001b[0m\u001b[0m\n\u001b[1;32m      4\u001b[0m   \u001b[0mconnectionToDatabase\u001b[0m\u001b[0;34m.\u001b[0m\u001b[0mcommit\u001b[0m\u001b[0;34m(\u001b[0m\u001b[0;34m)\u001b[0m \u001b[0;31m# remember to commit!\u001b[0m\u001b[0;34m\u001b[0m\u001b[0;34m\u001b[0m\u001b[0m\n\u001b[1;32m      5\u001b[0m \u001b[0;34m\u001b[0m\u001b[0m\n",
            "\u001b[0;31mNameError\u001b[0m: name 'Plane' is not defined"
          ]
        }
      ]
    },
    {
      "cell_type": "code",
      "metadata": {
        "id": "dyuvp5Z3fdLL",
        "colab_type": "code",
        "colab": {}
      },
      "source": [
        "for c in Flights:\n",
        "  insertStatement =  \"\"\"insert into Flights values (\"%s\",\"%s\",\"%s\",\"%s\",\"%s\",\"%s\",\"%s\")\"\"\" % (c[0],c[1],c[2],c[3],c[4],c[5],c[6])\n",
        "  cursor.execute(insertStatement)\n",
        "  connectionToDatabase.commit() # remember to commit!\n",
        "\n",
        "cursor.execute('''insert into Flights values ('Delta 649', 'Delta', '440mi', 'Boston', '001' ,'G10','Jason Fisher');''')\n",
        "connectionToDatabase.commit()\n",
        "cursor.execute('''insert into Flights values ('UA 2164', 'United Airline', '200mi', 'Philadelphia', '002' ,'K20','Nick Fisher');''')\n",
        "connectionToDatabase.commit()\n",
        "cursor.execute('''insert into Flights values ('AA 1775', 'American Airline', '2600mi', 'Los Angelas', '003' ,'D7','Evan Fisher');''')\n",
        "connectionToDatabase.commit()\n",
        "cursor.execute('''insert into Flights values ('JetBlue 921', 'JetBlue', '2300mi', 'Las Vegas', '004' ,'H12','Lebron Fisher');''')\n",
        "connectionToDatabase.commit()\n",
        "cursor.execute('''insert into Flights values ('UA 3376', 'United Airline', '560mi', 'Chicago', '005' ,'K17','Steven Fisher');''')\n",
        "connectionToDatabase.commit()"
      ],
      "execution_count": 0,
      "outputs": []
    },
    {
      "cell_type": "code",
      "metadata": {
        "id": "qdpO9ogl7kK2",
        "colab_type": "code",
        "colab": {}
      },
      "source": [
        "for c in Ticket:\n",
        "  insertStatement =  \"\"\"insert into Ticket values (\"%s\",\"%s\",\"%s\",\"%s\",\"%s\",\"%s\",\"%s\")\"\"\" % (c[0],c[1],c[2],c[3],c[4],c[5],c[6],c[7],c[8])\n",
        "  cursor.execute(insertStatement)\n",
        "  connectionToDatabase.commit() # remember to commit!\n",
        "\n",
        "cursor.execute('''insert into Ticket values ('001', 'Kai', 'Boston', '$70', 'G10' ,'1','Delta 649','Delta','17A');''')\n",
        "connectionToDatabase.commit()\n",
        "cursor.execute('''insert into Ticket values ('002', 'Jahnobi', 'Philadelphia', '$158', 'K20' ,'2','UA 2164','United Airline','10D');''')\n",
        "connectionToDatabase.commit()\n",
        "cursor.execute('''insert into Ticket values ('003', 'Ali', 'Los Angelas', '$132', 'D7' ,'3','AA 1775', 'American Airline','20C');''')\n",
        "connectionToDatabase.commit()\n",
        "cursor.execute('''insert into Ticket values ('004', 'Jess', 'Las Vegas', '$109', 'H12' ,'4','JetBlue 921', 'JetBlue','18D');''')\n",
        "connectionToDatabase.commit()\n",
        "cursor.execute('''insert into Ticket values ('005', 'Estella', 'Chicago', '$129', 'K17' ,'5','UA 3376', 'United Airline','6B');''')\n",
        "connectionToDatabase.commit()"
      ],
      "execution_count": 0,
      "outputs": []
    },
    {
      "cell_type": "code",
      "metadata": {
        "id": "idoVVLv1-S_1",
        "colab_type": "code",
        "colab": {}
      },
      "source": [
        "for c in BaggageClaim:\n",
        "  insertStatement =  \"\"\"insert into BaggageClaim values (\"%s\",\"%s\",\"%s\",\"%s\",\"%s\")\"\"\" % (c[0],c[1],c[2],c[3],c[4])\n",
        "  cursor.execute(insertStatement)\n",
        "  connectionToDatabase.commit() # remember to commit!\n",
        "\n",
        "cursor.execute('''insert into BaggageClaim values ('1', 'Delta 649', 'Kai', '001', 'G10' );''')\n",
        "connectionToDatabase.commit()\n",
        "cursor.execute('''insert into BaggageClaim values ('2', 'UA 2164', 'Jahnobi', '002', 'K20' );''')\n",
        "connectionToDatabase.commit()\n",
        "cursor.execute('''insert into BaggageClaim values ('3', 'AA 1775', 'Ali', '003', 'D7' );''')\n",
        "connectionToDatabase.commit()\n",
        "cursor.execute('''insert into BaggageClaim values ('4', 'JetBlue 921', 'Jess', '004', 'H12' );''')\n",
        "connectionToDatabase.commit()\n",
        "cursor.execute('''insert into BaggageClaim values ('5', 'UA 3376', 'Estella', '005', 'K17' );''')\n",
        "connectionToDatabase.commit()"
      ],
      "execution_count": 0,
      "outputs": []
    },
    {
      "cell_type": "code",
      "metadata": {
        "id": "_egGMN0r_U4D",
        "colab_type": "code",
        "colab": {}
      },
      "source": [
        "for c in Gate:\n",
        "  insertStatement =  \"\"\"insert into Gate values (\"%s\",\"%s\",\"%s\")\"\"\" % (c[0],c[1],c[2])\n",
        "  cursor.execute(insertStatement)\n",
        "  connectionToDatabase.commit() # remember to commit!\n",
        "\n",
        "cursor.execute('''insert into Gate values ('G10', 'Delta 649', 'McDonalds');''')\n",
        "connectionToDatabase.commit()\n",
        "cursor.execute('''insert into Gate values ('K20', 'Delta 649', 'Auntie Anne's');''')\n",
        "connectionToDatabase.commit()\n",
        "cursor.execute('''insert into Gate values ('D7', 'Delta 649', 'Dunkin Donuts');''')\n",
        "connectionToDatabase.commit()\n",
        "cursor.execute('''insert into Gate values ('H12', 'Delta 649', 'Burger King');''')\n",
        "connectionToDatabase.commit()\n",
        "cursor.execute('''insert into Gate values ('K17', 'Delta 649', 'Sbarro');''')\n",
        "connectionToDatabase.commit()"
      ],
      "execution_count": 0,
      "outputs": []
    },
    {
      "cell_type": "markdown",
      "metadata": {
        "id": "n62KH1W1aFvF",
        "colab_type": "text"
      },
      "source": [
        "Question 1: How many different airlines are avalible at this airport?"
      ]
    },
    {
      "cell_type": "code",
      "metadata": {
        "id": "X22JZr5ZeLIY",
        "colab_type": "code",
        "colab": {}
      },
      "source": [
        "SELECT DISTINCT Airline FROM Flight"
      ],
      "execution_count": 0,
      "outputs": []
    },
    {
      "cell_type": "markdown",
      "metadata": {
        "id": "Jxiwn7PqfoX1",
        "colab_type": "text"
      },
      "source": [
        "Question 2: Which gate has a Dunkin Donuts?"
      ]
    },
    {
      "cell_type": "code",
      "metadata": {
        "id": "oJpFsSX_fyFl",
        "colab_type": "code",
        "colab": {}
      },
      "source": [
        "SELECT Gate FROM Gate WHERE Vendor = 'Dunkin Donuts'"
      ],
      "execution_count": 0,
      "outputs": []
    },
    {
      "cell_type": "markdown",
      "metadata": {
        "id": "rhFD5Xjuf-y7",
        "colab_type": "text"
      },
      "source": [
        "Question 3: Who is traveling to Boston?"
      ]
    },
    {
      "cell_type": "code",
      "metadata": {
        "id": "xpl2FgWYgZas",
        "colab_type": "code",
        "colab": {}
      },
      "source": [
        "SELECT PassengerName FROM Ticket WHERE Destination = 'Boston'"
      ],
      "execution_count": 0,
      "outputs": []
    },
    {
      "cell_type": "markdown",
      "metadata": {
        "id": "Xstdm3BAhhFY",
        "colab_type": "text"
      },
      "source": [
        "The first question is important because it shows how many different airlines people can choose to fly from. Some people prefer one airline to another so having a diverse range of airlines could be important to show. The second question is important because personally I enjoy grabbing a cup of coffee and a muffin before I hop on a plane so it would be important for me to know where the Dunkin Donuts is located. The last question is important because I was curious as to who was flying where. All the SQL's returned the information I hoped they would."
      ]
    }
  ]
}